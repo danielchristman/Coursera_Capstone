{
    "cells": [
        {
            "cell_type": "markdown",
            "metadata": {
                "collapsed": true
            },
            "source": "# Import Packages"
        },
        {
            "cell_type": "code",
            "execution_count": 95,
            "metadata": {},
            "outputs": [],
            "source": "import numpy as np\nimport pandas as pd\nimport seaborn as sns\nimport matplotlib as mpl\nimport matplotlib.pyplot as plt\nimport sklearn as sk\nfrom scipy import stats\nfrom sklearn import preprocessing\nimport random\nimport scipy as sp\nfrom sklearn.tree import DecisionTreeClassifier\nfrom sklearn.model_selection import train_test_split\nfrom sklearn import svm\nfrom sklearn import metrics\nfrom sklearn.linear_model import LogisticRegression\nfrom scipy import stats\n\n\n%matplotlib inline"
        },
        {
            "cell_type": "markdown",
            "metadata": {},
            "source": "# Import data into Dataframe"
        },
        {
            "cell_type": "code",
            "execution_count": null,
            "metadata": {},
            "outputs": [],
            "source": "coldata = pd.read_csv(\"https://s3.us.cloud-object-storage.appdomain.cloud/cf-courses-data/CognitiveClass/DP0701EN/version-2/Data-Collisions.csv\")"
        },
        {
            "cell_type": "markdown",
            "metadata": {},
            "source": "# Dataframe Overview"
        },
        {
            "cell_type": "code",
            "execution_count": 52,
            "metadata": {},
            "outputs": [
                {
                    "data": {
                        "text/plain": "Index(['SEVERITYCODE', 'X', 'Y', 'OBJECTID', 'INCKEY', 'COLDETKEY', 'REPORTNO',\n       'STATUS', 'ADDRTYPE', 'INTKEY', 'LOCATION', 'EXCEPTRSNCODE',\n       'EXCEPTRSNDESC', 'SEVERITYCODE.1', 'SEVERITYDESC', 'COLLISIONTYPE',\n       'PERSONCOUNT', 'PEDCOUNT', 'PEDCYLCOUNT', 'VEHCOUNT', 'INCDATE',\n       'INCDTTM', 'JUNCTIONTYPE', 'SDOT_COLCODE', 'SDOT_COLDESC',\n       'INATTENTIONIND', 'UNDERINFL', 'WEATHER', 'ROADCOND', 'LIGHTCOND',\n       'PEDROWNOTGRNT', 'SDOTCOLNUM', 'SPEEDING', 'ST_COLCODE', 'ST_COLDESC',\n       'SEGLANEKEY', 'CROSSWALKKEY', 'HITPARKEDCAR'],\n      dtype='object')"
                    },
                    "execution_count": 52,
                    "metadata": {},
                    "output_type": "execute_result"
                }
            ],
            "source": "coldata.columns\ncoldata.head(5)"
        },
        {
            "cell_type": "code",
            "execution_count": 53,
            "metadata": {},
            "outputs": [
                {
                    "data": {
                        "text/plain": "(194673, 38)"
                    },
                    "execution_count": 53,
                    "metadata": {},
                    "output_type": "execute_result"
                }
            ],
            "source": "coldata.shape"
        },
        {
            "cell_type": "markdown",
            "metadata": {},
            "source": "This dataset breaks down severity into two categories: 1 meaning that there was no injury sustained in the accident, just property damage; 2 meaning that there was an injury sustained. This dataset also contains data regarding the location of the accident, description of the severity, amount of persons involved in the accident, amount of vehicles involved in the accident, the type of junction in which the accident occurred, whether the driver was under the influence, weather, road condition, light condition, and whether the driver was speeding.\n\nThis model is mainly concerned with the data surrounding accident severity, weather conditions at the time of the accident, road conditions at the time of the accident, and light conditions."
        },
        {
            "cell_type": "markdown",
            "metadata": {},
            "source": "# Data Preprocessing and Cleansing"
        },
        {
            "cell_type": "markdown",
            "metadata": {},
            "source": "I will first adjust the severity code in the dataset to 0/1 from 1/2."
        },
        {
            "cell_type": "code",
            "execution_count": 54,
            "metadata": {},
            "outputs": [],
            "source": "severity = coldata['SEVERITYCODE'].values\n\nsevlabel = preprocessing.LabelEncoder()\nsevlabel.fit([1,2])\nseverity = sevlabel.transform(severity)\ncoldata[\"SEVERITYCODE\"] = severity"
        },
        {
            "cell_type": "markdown",
            "metadata": {},
            "source": "Next, I will change the weather conditions to numeric values and condense similar conditions.\n - 0 = Clear\n - 1 = Cloudy\n - 2 = Windy\n - 3 = Foggy\n - 4 = Precipitation"
        },
        {
            "cell_type": "code",
            "execution_count": 55,
            "metadata": {},
            "outputs": [],
            "source": "coldata[\"WEATHER\"].replace(\"Clear\", 0, inplace=True)\ncoldata[\"WEATHER\"].replace(\"Partly Cloudy\", 1, inplace=True)\ncoldata[\"WEATHER\"].replace(\"Overcast\", 1, inplace=True)\ncoldata[\"WEATHER\"].replace(\"Severe Crosswind\", 2, inplace=True)\ncoldata[\"WEATHER\"].replace(\"Blowing Sand/Dirt\", 2, inplace=True)\ncoldata[\"WEATHER\"].replace(\"Fog/Smog/Smoke\", 3, inplace=True)\ncoldata[\"WEATHER\"].replace(\"Sleet/Hail/Freezing Rain\", 4, inplace=True)\ncoldata[\"WEATHER\"].replace(\"Raining\", 4, inplace=True)\ncoldata[\"WEATHER\"].replace(\"Snowing\", 4, inplace=True)\ncoldata[\"WEATHER\"].replace(\"Other\", \"Unknown\", inplace=True)"
        },
        {
            "cell_type": "markdown",
            "metadata": {},
            "source": "Next, I will change the light conditions to numeric values and condense similar conditions.\n - 0 = Bright\n - 1 = Dim\n - 2 = Dark"
        },
        {
            "cell_type": "code",
            "execution_count": 56,
            "metadata": {},
            "outputs": [],
            "source": "coldata[\"LIGHTCOND\"].replace(\"Daylight\", 0, inplace=True)\ncoldata[\"LIGHTCOND\"].replace(\"Dawn\", 1, inplace=True)\ncoldata[\"LIGHTCOND\"].replace(\"Dusk\", 1, inplace=True)\ncoldata[\"LIGHTCOND\"].replace(\"Dark - Street Lights On\", 1, inplace=True)\ncoldata[\"LIGHTCOND\"].replace(\"Dark - Street Lights Off\", 2, inplace=True)\ncoldata[\"LIGHTCOND\"].replace(\"Dark - No Street Lights\", 2, inplace=True)\ncoldata[\"LIGHTCOND\"].replace(\"Dark - Unknown Lighting\", 2, inplace=True)\ncoldata[\"LIGHTCOND\"].replace(\"Other\", \"Unknown\", inplace=True)"
        },
        {
            "cell_type": "markdown",
            "metadata": {},
            "source": "Next, I will change the road conditions to numeric values and condense similar conditions.\n - 0 = Dry\n - 1 = Coarse\n - 2 = Slick"
        },
        {
            "cell_type": "code",
            "execution_count": 57,
            "metadata": {},
            "outputs": [],
            "source": "coldata[\"ROADCOND\"].replace(\"Dry\", 0, inplace=True)\ncoldata[\"ROADCOND\"].replace(\"Snow/Slush\", 1, inplace=True)\ncoldata[\"ROADCOND\"].replace(\"Sand/Mud/Dirt\", 1, inplace=True)\ncoldata[\"ROADCOND\"].replace(\"Wet\", 2, inplace=True)\ncoldata[\"ROADCOND\"].replace(\"Standing Water\", 2, inplace=True)\ncoldata[\"ROADCOND\"].replace(\"Oil\", 2, inplace=True)\ncoldata[\"ROADCOND\"].replace(\"Ice\", 2, inplace=True)\ncoldata[\"ROADCOND\"].replace(\"Other\", \"Unknown\", inplace=True)"
        },
        {
            "cell_type": "markdown",
            "metadata": {},
            "source": "Next, I will create a dataframe containing only the considered variables as well as the unique identifier for the incidents."
        },
        {
            "cell_type": "code",
            "execution_count": 60,
            "metadata": {},
            "outputs": [],
            "source": "specificdata=coldata[[\"INCKEY\", \"SEVERITYCODE\", \"WEATHER\", \"LIGHTCOND\", \"ROADCOND\"]]"
        },
        {
            "cell_type": "code",
            "execution_count": 94,
            "metadata": {},
            "outputs": [
                {
                    "data": {
                        "text/html": "<div>\n<style scoped>\n    .dataframe tbody tr th:only-of-type {\n        vertical-align: middle;\n    }\n\n    .dataframe tbody tr th {\n        vertical-align: top;\n    }\n\n    .dataframe thead th {\n        text-align: right;\n    }\n</style>\n<table border=\"1\" class=\"dataframe\">\n  <thead>\n    <tr style=\"text-align: right;\">\n      <th></th>\n      <th>INCKEY</th>\n      <th>SEVERITYCODE</th>\n      <th>WEATHER</th>\n      <th>LIGHTCOND</th>\n      <th>ROADCOND</th>\n    </tr>\n  </thead>\n  <tbody>\n    <tr>\n      <th>0</th>\n      <td>1307</td>\n      <td>1</td>\n      <td>1</td>\n      <td>0</td>\n      <td>2</td>\n    </tr>\n    <tr>\n      <th>1</th>\n      <td>52200</td>\n      <td>0</td>\n      <td>4</td>\n      <td>1</td>\n      <td>2</td>\n    </tr>\n    <tr>\n      <th>2</th>\n      <td>26700</td>\n      <td>0</td>\n      <td>1</td>\n      <td>0</td>\n      <td>0</td>\n    </tr>\n    <tr>\n      <th>3</th>\n      <td>1144</td>\n      <td>0</td>\n      <td>0</td>\n      <td>0</td>\n      <td>0</td>\n    </tr>\n    <tr>\n      <th>4</th>\n      <td>17700</td>\n      <td>1</td>\n      <td>4</td>\n      <td>0</td>\n      <td>2</td>\n    </tr>\n  </tbody>\n</table>\n</div>",
                        "text/plain": "   INCKEY  SEVERITYCODE WEATHER LIGHTCOND ROADCOND\n0    1307             1       1         0        2\n1   52200             0       4         1        2\n2   26700             0       1         0        0\n3    1144             0       0         0        0\n4   17700             1       4         0        2"
                    },
                    "execution_count": 94,
                    "metadata": {},
                    "output_type": "execute_result"
                }
            ],
            "source": "specificdata.head(5)"
        },
        {
            "cell_type": "markdown",
            "metadata": {},
            "source": "Finally, I will drop rows with null values."
        },
        {
            "cell_type": "code",
            "execution_count": 62,
            "metadata": {},
            "outputs": [
                {
                    "name": "stderr",
                    "output_type": "stream",
                    "text": "/opt/conda/envs/Python36/lib/python3.6/site-packages/ipykernel/__main__.py:1: SettingWithCopyWarning: \nA value is trying to be set on a copy of a slice from a DataFrame\n\nSee the caveats in the documentation: http://pandas.pydata.org/pandas-docs/stable/indexing.html#indexing-view-versus-copy\n  if __name__ == '__main__':\n"
                },
                {
                    "data": {
                        "text/plain": "(169957, 5)"
                    },
                    "execution_count": 62,
                    "metadata": {},
                    "output_type": "execute_result"
                }
            ],
            "source": "specificdata.dropna(axis=0, how='any', inplace=True)\n\nunknownweatherdata = specificdata[specificdata['WEATHER'] == 'Unknown'].index\nspecificdata.drop(unknownweatherdata, inplace = True)\n\nunknownlightdata = specificdata[specificdata['LIGHTCOND'] == 'Unknown'].index\nspecificdata.drop(unknownlightdata, inplace = True)\n\nunknownroaddata = specificdata[specificdata['ROADCOND'] == 'Unknown'].index\nspecificdata.drop(unknownroaddata, inplace = True)\n\nspecificdata.head\nspecificdata.shape"
        },
        {
            "cell_type": "code",
            "execution_count": 63,
            "metadata": {},
            "outputs": [
                {
                    "data": {
                        "text/plain": "<bound method NDFrame.head of         INCKEY  SEVERITYCODE WEATHER LIGHTCOND ROADCOND\n0         1307             1       1         0        2\n1        52200             0       4         1        2\n2        26700             0       1         0        0\n3         1144             0       0         0        0\n4        17700             1       4         0        2\n5       320840             0       0         0        0\n6        83300             0       4         0        2\n7       330897             1       0         0        0\n8        63400             0       0         0        0\n9        58600             1       0         0        0\n10       48900             0       1         0        0\n11       38800             0       0         0        0\n12        2771             0       4         1        2\n13       32800             0       4         2        2\n14        1212             1       0         1        0\n16       46300             1       1         0        0\n17       23000             0       1         0        0\n18      330833             1       0         0        0\n20        1347             1       0         1        0\n21        1323             1       0         0        0\n22       80000             0       0         1        0\n24        1268             1       0         0        0\n25      320932             1       0         0        0\n27       64700             0       0         0        0\n28        1083             0       0         0        0\n29       61500             0       0         0        0\n30       40800             0       4         1        2\n31       27800             0       0         1        0\n32       18900             0       0         0        0\n33       69700             0       0         1        0\n...        ...           ...     ...       ...      ...\n194639  308716             0       4         0        2\n194640  307337             1       1         2        2\n194641  307864             0       0         0        0\n194642  307995             0       0         0        0\n194643  307577             0       0         1        0\n194644  312117             0       0         1        0\n194645  307692             1       0         1        0\n194647  308575             1       4         1        2\n194648  307792             0       4         1        2\n194649  307985             1       0         1        0\n194650  310417             1       0         0        0\n194651  309594             0       0         1        2\n194652  308698             0       1         1        2\n194653  308342             1       1         1        2\n194656  312179             1       0         0        0\n194657  307834             0       4         1        2\n194658  311697             0       4         1        2\n194659  308019             0       4         1        2\n194661  308532             1       0         0        0\n194662  307802             0       0         1        0\n194663  309335             1       4         0        2\n194664  309222             0       0         0        0\n194665  308480             0       0         0        0\n194666  309170             1       0         0        2\n194667  307804             0       4         1        2\n194668  309534             1       0         0        0\n194669  309085             0       4         0        2\n194670  311280             1       0         0        0\n194671  309514             1       0         1        0\n194672  308220             0       0         0        2\n\n[169957 rows x 5 columns]>"
                    },
                    "execution_count": 63,
                    "metadata": {},
                    "output_type": "execute_result"
                }
            ],
            "source": "specificdata.head"
        },
        {
            "cell_type": "markdown",
            "metadata": {},
            "source": "# Building Model"
        },
        {
            "cell_type": "markdown",
            "metadata": {},
            "source": "First, I will build the feature sets by setting my variables to X and the severity code to Y."
        },
        {
            "cell_type": "code",
            "execution_count": 67,
            "metadata": {},
            "outputs": [],
            "source": "x = specificdata[[\"WEATHER\", \"LIGHTCOND\", \"ROADCOND\"]].values\ny = specificdata[[\"SEVERITYCODE\"]].values"
        },
        {
            "cell_type": "markdown",
            "metadata": {},
            "source": "Next, I will create a train set and a test set, with 30% of the data being set aside for testing."
        },
        {
            "cell_type": "code",
            "execution_count": 68,
            "metadata": {},
            "outputs": [
                {
                    "name": "stdout",
                    "output_type": "stream",
                    "text": "Train set: (118969, 3) (118969, 1)\nTest set: (50988, 3) (50988, 1)\n"
                }
            ],
            "source": "x_train, x_test, y_train, y_test = train_test_split(x, y, test_size=0.3, random_state=4)\nprint('Train set:', x_train.shape, y_train.shape)\nprint('Test set:', x_test.shape, y_test.shape)"
        },
        {
            "cell_type": "markdown",
            "metadata": {},
            "source": "Next, I will create a decision tree classifier using the \"entropy\" criterion with a max depth of 5. Then, I will complete a prediction using the model and verify accuracy."
        },
        {
            "cell_type": "code",
            "execution_count": 85,
            "metadata": {},
            "outputs": [
                {
                    "name": "stdout",
                    "output_type": "stream",
                    "text": "Decision Tree Classifier accuracy score:  0.6728642033419628\n"
                }
            ],
            "source": "from sklearn.metrics import accuracy_score, f1_score, log_loss\n\ndecisiontree = DecisionTreeClassifier(criterion=\"entropy\", max_depth=5)\ndecisiontree.fit(x_train, y_train)\n\nyhdecisiontree = decisiontree.predict(x_test)\n\nprint('Decision Tree Classifier accuracy score: ', accuracy_score(yhdecisiontree, y_test))"
        },
        {
            "cell_type": "markdown",
            "metadata": {},
            "source": "Next, I will visualize the model using a classification report and confusion matrix."
        },
        {
            "cell_type": "code",
            "execution_count": 89,
            "metadata": {},
            "outputs": [
                {
                    "name": "stdout",
                    "output_type": "stream",
                    "text": "              precision    recall  f1-score   support\n\n           0       1.00      0.67      0.80     50988\n           1       0.00      0.00      0.00         0\n\n   micro avg       0.67      0.67      0.67     50988\n   macro avg       0.50      0.34      0.40     50988\nweighted avg       1.00      0.67      0.80     50988\n\n"
                },
                {
                    "name": "stderr",
                    "output_type": "stream",
                    "text": "/opt/conda/envs/Python36/lib/python3.6/site-packages/sklearn/metrics/classification.py:1145: UndefinedMetricWarning: Recall and F-score are ill-defined and being set to 0.0 in labels with no true samples.\n  'recall', 'true', average, warn_for)\n/opt/conda/envs/Python36/lib/python3.6/site-packages/sklearn/metrics/classification.py:1145: UndefinedMetricWarning: Recall and F-score are ill-defined and being set to 0.0 in labels with no true samples.\n  'recall', 'true', average, warn_for)\n/opt/conda/envs/Python36/lib/python3.6/site-packages/sklearn/metrics/classification.py:1145: UndefinedMetricWarning: Recall and F-score are ill-defined and being set to 0.0 in labels with no true samples.\n  'recall', 'true', average, warn_for)\n"
                }
            ],
            "source": "from sklearn.metrics import classification_report, confusion_matrix\n\nprint(classification_report(yhdecisiontree, y_test))"
        }
    ],
    "metadata": {
        "kernelspec": {
            "display_name": "Python 3.6",
            "language": "python",
            "name": "python3"
        },
        "language_info": {
            "codemirror_mode": {
                "name": "ipython",
                "version": 3
            },
            "file_extension": ".py",
            "mimetype": "text/x-python",
            "name": "python",
            "nbconvert_exporter": "python",
            "pygments_lexer": "ipython3",
            "version": "3.6.9"
        }
    },
    "nbformat": 4,
    "nbformat_minor": 1
}