{
    "cells": [
        {
            "cell_type": "markdown",
            "metadata": {
                "collapsed": true
            },
            "source": "# Coursera Capstone Project - Week 1"
        },
        {
            "cell_type": "markdown",
            "metadata": {},
            "source": "## Introduction & Business Problem"
        },
        {
            "cell_type": "markdown",
            "metadata": {},
            "source": "In Seattle and across the globe, there exists a constant variable for all commuters, that being weather and road conditions. On a given day where road conditions are poor and weather conditions are creating a challenging environment to drive safely, a commuter will face a difficult decision in determining whether it is safe to drive. Currently, a commuter would have no way of predicting the likelihood of getting into a severe accident. Even if the commuter is confident in their ability to handle the weather, their selected route may take them down a road where conditions will greatly increase their risk of a severe accident.  \n\nLuckily, Seattle has made available the data surrounding accidents to allow data scientists to analyze and extract trends to better predict the main environments and scenarios where accidents may be more common to occur.\n"
        },
        {
            "cell_type": "markdown",
            "metadata": {},
            "source": "## Proposed Solution"
        },
        {
            "cell_type": "markdown",
            "metadata": {},
            "source": "Build a machine learning model that can predict the severity of an accident based on road, weather, and light conditions."
        },
        {
            "cell_type": "markdown",
            "metadata": {},
            "source": "## Data Summary and Use"
        },
        {
            "cell_type": "markdown",
            "metadata": {},
            "source": "This dataset breaks down severity into two categories: 1 meaning that there was no injury sustained in the accident, just property damage; 2 meaning that there was an injury sustained. This dataset also contains data regarding the location of the accident, description of the severity, amount of persons involved in the accident, amount of vehicles involved in the accident, the type of junction in which the accident occurred, whether the driver was under the influence, weather, road condition, light condition, and whether the driver was speeding.\n\nThis model is mainly concerned with the data surrounding accident severity, weather conditions at the time of the accident, road conditions at the time of the accident, and light conditions.\n\nTo solve the problem, I will use a decision tree classifier to determine the likelihood of a severe accident based on the weather, road conditions, and light conditions."
        },
        {
            "cell_type": "code",
            "execution_count": null,
            "metadata": {},
            "outputs": [],
            "source": ""
        }
    ],
    "metadata": {
        "kernelspec": {
            "display_name": "Python 3.6",
            "language": "python",
            "name": "python3"
        },
        "language_info": {
            "codemirror_mode": {
                "name": "ipython",
                "version": 3
            },
            "file_extension": ".py",
            "mimetype": "text/x-python",
            "name": "python",
            "nbconvert_exporter": "python",
            "pygments_lexer": "ipython3",
            "version": "3.6.9"
        }
    },
    "nbformat": 4,
    "nbformat_minor": 1
}